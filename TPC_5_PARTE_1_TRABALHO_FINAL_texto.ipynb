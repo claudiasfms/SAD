{
  "nbformat": 4,
  "nbformat_minor": 0,
  "metadata": {
    "colab": {
      "name": "TPC_5 - PARTE 1 - TRABALHO FINAL texto.ipynb",
      "version": "0.3.2",
      "provenance": [],
      "collapsed_sections": [],
      "include_colab_link": true
    },
    "kernelspec": {
      "display_name": "SADenv",
      "language": "python",
      "name": "sadenv"
    }
  },
  "cells": [
    {
      "cell_type": "markdown",
      "metadata": {
        "id": "view-in-github",
        "colab_type": "text"
      },
      "source": [
        "<a href=\"https://colab.research.google.com/github/claudiasfms/SAD/blob/master/TPC_5_PARTE_1_TRABALHO_FINAL_texto.ipynb\" target=\"_parent\"><img src=\"https://colab.research.google.com/assets/colab-badge.svg\" alt=\"Open In Colab\"/></a>"
      ]
    },
    {
      "metadata": {
        "id": "noMUy4l79ENF",
        "colab_type": "text"
      },
      "cell_type": "markdown",
      "source": [
        "\n",
        "\n",
        "</br></br>\n",
        "\n",
        "# Sistemas de Apoio à Decisão\n",
        "#### TPC 5 - PARTE 1 DO TRABALHO FINAL (15 dias)\n",
        "\n",
        "---------------\n",
        "\n",
        "\n",
        "##### Com base no seu dataset (Determinado para a sua resolução do Trabalho final)\n",
        "\n",
        "- Catalogar o dataset quanto a\n",
        "    - Dimensionalidade\n",
        "    - Esparsidade\n",
        "    - Resolução\n",
        "    - Tamanho\n",
        "\n",
        "\n",
        "- Catalogar todos as features (Máx 50), quanto a:\n",
        "    - valores de valores médios, variâncias,histogramas (crie um módulo que faça isto por si);\n",
        "    - Tipo (contínuo, discreto ou binário)   \n",
        "    - Analise NaN's (ou Nulls) e Outliers\n",
        "    - Analise os resultados\n",
        "    - Quais não fazem sentido em termos do problema que pretende resolver;\n",
        "    - Que outras features poderia utilizar para enriquecer a informação do seu problema;\n",
        "    - Perceba se deve ou não fazer encoding ou one hot encoding para cada feature discreta;\n",
        "    - Faça uma matriz de correlação entre as features usando ```dataframe.corr()```;\n",
        "\n",
        "\n",
        "\n",
        "- Analise em termos estatísticos a Label/target que tem para já como problema.\n",
        "\n",
        "---\n",
        "\n",
        "No final, faça um pequeno texto relatando o dataset que está a utilzar, recorrendo à informação que obteve nas perguntas anteriores;"
      ]
    },
    {
      "metadata": {
        "id": "9lnnKT_Y_Avz",
        "colab_type": "text"
      },
      "cell_type": "markdown",
      "source": [
        "O dataset seleccionado para o nosso trabalho contem 10 classes de imagens, cão, cavalo, elefante, borboleta, galinha, gato, vaca, aranha, ovelha e esquilo. Todas as classes contÊm entre 1483 a 5133 imagens, ou seja cerca de 2k até 5k por categoria.\n",
        "\n",
        "\n",
        "Para o nosso trabalho escolhemos transformar o problema num de classificação binária. Para isto optamos pelo reconhecimento de apenas um animal cuja a cor não variasse muito, neste caso o esquilo. O trabalho irá basear-se no reconhecimento do animal numa imagem, ou é esquio ou outro.\n",
        "\n",
        "Iniciámos o nosso trabalho, após a análise do dataset, começando por redimensionar as 2013 imagens dos esquilos para dimensões de 100*100. \n",
        "Faremos uma selecção random de 50 imagens de uma das outras 9 categorias para utilizar no nosso dataset, e também as redimensionámos.\n",
        "\n",
        "Iremos identificar possíveis \"outliers\" - imagens sem\"ruído\", ou seja, as imagens contidas no dataset que foram retiradas do google, em fundo branco, apenas referente ao animal. \n",
        "\n",
        "---\n",
        "- Catalogar o dataset quanto a\n",
        "\n",
        "-> Dimensionalidade:\n",
        "  \n",
        "  A dimensionalidade refere-se aos atributos e colunas do dataset, isto é, o número de colunas indica o número de dimensões do dataset, embora possam existir semelhanças, correlações e repetições entre estas. É através do estudo da dimensionalidade que conseguimos determinar médias, desvio padrão, ausência ou não de informação de cada feature.\n",
        "  Desta forma conseguimos optimizar o espaço ocupado, conseguimos proveito reduzindo a dimensão do estudo, aumento da performance do modelo na obtenção de resultados mais precisos pela remoção das redundâncias, e análise gráfica dimensional 2D e 3D de padrões com maior precisão.\n",
        "  \n",
        "  O dataset animals10 contém 10 categorias diferentes de imagens em formato \"jpeg\" e \"jpg\" retiradas do google images, todas as classes contêm entre 1483 a 5133 imagens, ou seja cerca de 2k até 5k por categoria. A quantidade de imagens por categoria é: cães(4908), cavalos(2672), elefantes(1483), borboletas(2464), galinhas(3671), gatos(1941), vacas(2039), ovelhas(1943), aranhas(5133) e esquilos()(2013). Estas imagens têm dimensões aproximadas de 640*425. Quanto à resolução rondam os 300dpi, prefazendo um total de aproximadamente 652MB).\n",
        "\n",
        "-> Esparsidade\n",
        "\n",
        "Este conceito tem a ver com o quão distantes são os valores com significado uns dos outros, neste dataset vamos analisar os animais face às características/propriedades que os distinguem, isto é, o que um esquilo tem em comum com outro animal.\n",
        "\n",
        "-> Resolução\n",
        "\n",
        "A resolução (pixels) serve para determinar com que detalhe estamos a analisar a informação dos animais, neste caso determinamos um tamanho de 100.\n",
        "\n",
        "-> Tamanho\n",
        "\n",
        "O tamanho de cada imagem contém cerca de 2k até 5k por categoria. O esquilo tem 2013 imagens. Estas imagens têm dimensões aproximadas de 640*425. Quanto à resolução rondam os 300dpi.\n"
      ]
    },
    {
      "metadata": {
        "id": "MbOxJtF7ELtT",
        "colab_type": "code",
        "colab": {}
      },
      "cell_type": "code",
      "source": [
        ""
      ],
      "execution_count": 0,
      "outputs": []
    }
  ]
}