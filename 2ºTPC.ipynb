{
  "nbformat": 4,
  "nbformat_minor": 0,
  "metadata": {
    "colab": {
      "name": "2ºTPC.ipynb",
      "version": "0.3.2",
      "provenance": [],
      "collapsed_sections": [],
      "include_colab_link": true
    },
    "kernelspec": {
      "name": "python3",
      "display_name": "Python 3"
    }
  },
  "cells": [
    {
      "cell_type": "markdown",
      "metadata": {
        "id": "view-in-github",
        "colab_type": "text"
      },
      "source": [
        "[View in Colaboratory](https://colab.research.google.com/github/claudiasfms/SAD/blob/master/2%C2%BATPC.ipynb)"
      ]
    },
    {
      "metadata": {
        "id": "MIAg3S_Dflcy",
        "colab_type": "code",
        "colab": {
          "base_uri": "https://localhost:8080/",
          "height": 87
        },
        "outputId": "89c66374-d8ea-4cd2-83b8-3cb09524ddca"
      },
      "cell_type": "code",
      "source": [
        "#Cláudia Santos nº20160291\n",
        "\n",
        "\"\"\"Uma cada carta é identificada pelo seu numero 1,2,3,4,5,6,7,8,9,10,D,V,R (sendo os ultimos dama, valete e rei)\n",
        "e pelo seu naipe copas(C); paus (P); Ouros (O); Espadas (E)\"\"\"\n",
        "\n",
        "from collections import defaultdict  # importação do dicionário\n",
        "\n",
        "\n",
        "dicio = { \"1C\" : 0, \"1P\" : 0, \"1O\" : 0, \"1E\" : 0, \"2C\" : 0, \"2P\" : 0, \"2O\" : 0, \n",
        "         \"2E\" : 0, \"3C\" : 0, \"3P\" : 0, \"3O\" : 0, \"3E\" : 0, \"4C\" : 0, \"4P\" : 0, \n",
        "         \"4O\" : 0, \"4E\" : 0,  \"5C\" : 0, \"5P\" : 0, \"5O\" : 0, \"5E\" : 0, \"6C\" : 0,\n",
        "         \"6P\" : 0, \"6O\" : 0, \"6E\" : 0, \"7C\" : 0, \"7P\" : 0, \"7O\" : 0, \"7E\" : 0, \n",
        "         \"8C\" : 0, \"8P\" : 0, \"8O\" : 0, \"8E\" : 0, \"9C\" : 0, \"9P\" : 0, \"9O\" : 0, \n",
        "         \"9E\" : 0, \"10C\" : 0, \"10P\" : 0, \"10O\" : 0, \"10E\" : 0, \"DC\" : 0, \"DP\" : 0,\n",
        "         \"DO\" : 0, \"DE\" : 0, \"VC\" : 0, \"VP\" : 0, \"VO\" : 0, \"VE\" : 0, \"RC\" : 0, \"RP\" : 0, \"RO\" : 0, \"RE\" : 0 }\n",
        "\n",
        "\n",
        "# Criar uma função que retorne o número de baralhos completos (com todas as cartas) existentes nessa lista.\n",
        "def solution():\n",
        "print(\"Cartas = \", dicio.keys(), \"\\n\", \"O número de cartas é \", (len(dicio)))  #vai mostrar as chaves do dicionário, e o número de cartas do mesmo\n",
        "if (len(dicio)) == 52:  #se o tamanho do dicionário for = 52, então temos um baralho completo\n",
        "  numb = 1\n",
        "print(\"E o número de baralho(s) completos é \", numb)  #imprime o número(s) de baralhos que temos\n",
        "\n"
      ],
      "execution_count": 71,
      "outputs": [
        {
          "output_type": "stream",
          "text": [
            "Cartas =  dict_keys(['1C', '1P', '1O', '1E', '2C', '2P', '2O', '2E', '3C', '3P', '3O', '3E', '4C', '4P', '4O', '4E', '5C', '5P', '5O', '5E', '6C', '6P', '6O', '6E', '7C', '7P', '7O', '7E', '8C', '8P', '8O', '8E', '9C', '9P', '9O', '9E', '10C', '10P', '10O', '10E', 'DC', 'DP', 'DO', 'DE', 'VC', 'VP', 'VO', 'VE', 'RC', 'RP', 'RO', 'RE']) \n",
            " O número de cartas é  52\n",
            " e o número de baralho(s) completos é  1\n"
          ],
          "name": "stdout"
        }
      ]
    }
  ]
}