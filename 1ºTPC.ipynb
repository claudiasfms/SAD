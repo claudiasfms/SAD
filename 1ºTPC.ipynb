{
  "nbformat": 4,
  "nbformat_minor": 0,
  "metadata": {
    "colab": {
      "name": "1ºTPC.ipynb",
      "version": "0.3.2",
      "provenance": [],
      "collapsed_sections": []
    },
    "kernelspec": {
      "name": "python3",
      "display_name": "Python 3"
    }
  },
  "cells": [
    {
      "metadata": {
        "id": "djQq4LawOJA-",
        "colab_type": "code",
        "outputId": "ccdd8737-0ef4-4a21-e7fb-8799d03f53cf",
        "colab": {
          "base_uri": "https://localhost:8080/",
          "height": 34
        }
      },
      "cell_type": "code",
      "source": [
        "#Cláudia Santos nº 20160291\n",
        "\n",
        "# A string S é considerada correcta se qualquer uma das seguintes condições for verdadeira:\n",
        "# se S for vazia\n",
        "S = \"\"  \n",
        "\n",
        "# se S tem a forma \"(U)\", ou \"[U]\", ou \"{U}\"\n",
        "S = \"()\"\n",
        "S = \"[]\"\n",
        "S = \"{}\"\n",
        "\n",
        "# a string \"{[()]}\" é considerada correcta, mas \"([)()]\" não é\n",
        "S = \"{[()]}\"\n",
        "\n",
        "# função \n",
        "def solution(S): \n",
        "  array = [200000]  #nr inteiro dentro do intervalo [0.. 200000]\n",
        "  for s in S:\n",
        "    if s in [\"{\", \"(\", \"[\"]:\n",
        "      array.append(s)  # vai adicionar s ao final do array\n",
        "    if s in [\"}\", \")\", \"]\"] and array == []:\n",
        "      array.append(s)\n",
        "      break\n",
        "      #break interrompe o loop e passa a executar a próxima linha\n",
        "    if s == \"}\" and array[-1] == \"{\":\n",
        "      array.pop()\n",
        "    if s == \"]\" and array[-1] == \"[\":\n",
        "      array.pop()\n",
        "    if s == \")\" and array[-1] == \"(\":\n",
        "      array.pop()     \n",
        "    # pop() remove o item com índice i da matriz e retorna-o. O [-1] para que o último item seja removido e retornado\n",
        "  \n",
        "# se S estiver correcta retorna 1, caso contrário retorna 0  \n",
        "if array == []:\n",
        "  print(1)\n",
        "else:\n",
        "  print(0)\n",
        "  \n",
        "     \n",
        "    \n"
      ],
      "execution_count": 36,
      "outputs": [
        {
          "output_type": "stream",
          "text": [
            "1\n"
          ],
          "name": "stdout"
        }
      ]
    }
  ]
}